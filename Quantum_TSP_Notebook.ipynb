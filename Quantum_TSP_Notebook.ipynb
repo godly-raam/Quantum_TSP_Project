{
  "nbformat": 4,
  "nbformat_minor": 0,
  "metadata": {
    "colab": {
      "provenance": [],
      "mount_file_id": "1SCC5OnlAVUJe1X1rkp2webu-bzPsaHZq",
      "authorship_tag": "ABX9TyPaerzugJZ0DFjgMvfmGqPN",
      "include_colab_link": true
    },
    "kernelspec": {
      "name": "python3",
      "display_name": "Python 3"
    },
    "language_info": {
      "name": "python"
    }
  },
  "cells": [
    {
      "cell_type": "markdown",
      "metadata": {
        "id": "view-in-github",
        "colab_type": "text"
      },
      "source": [
        "<a href=\"https://colab.research.google.com/github/godly-raam/Quantum_TSP_Project/blob/main/Quantum_TSP_Notebook.ipynb\" target=\"_parent\"><img src=\"https://colab.research.google.com/assets/colab-badge.svg\" alt=\"Open In Colab\"/></a>"
      ]
    },
    {
      "cell_type": "code",
      "source": [
        "# Final Installation: Pinning all packages to known compatible versions.\n",
        "!pip install qiskit==1.1.0 qiskit-aer==0.14.2 qiskit-algorithms==0.3.0 qiskit-optimization==0.7.0 networkx matplotlib"
      ],
      "metadata": {
        "colab": {
          "base_uri": "https://localhost:8080/"
        },
        "id": "aI0tbZwqpYOS",
        "outputId": "c18f9973-4230-411f-ba2e-a18e724ff771"
      },
      "execution_count": 1,
      "outputs": [
        {
          "output_type": "stream",
          "name": "stdout",
          "text": [
            "Requirement already satisfied: qiskit==1.1.0 in /usr/local/lib/python3.12/dist-packages (1.1.0)\n",
            "Requirement already satisfied: qiskit-aer==0.14.2 in /usr/local/lib/python3.12/dist-packages (0.14.2)\n",
            "Requirement already satisfied: qiskit-algorithms==0.3.0 in /usr/local/lib/python3.12/dist-packages (0.3.0)\n",
            "Requirement already satisfied: qiskit-optimization==0.7.0 in /usr/local/lib/python3.12/dist-packages (0.7.0)\n",
            "Requirement already satisfied: networkx in /usr/local/lib/python3.12/dist-packages (3.5)\n",
            "Requirement already satisfied: matplotlib in /usr/local/lib/python3.12/dist-packages (3.10.5)\n",
            "Requirement already satisfied: rustworkx>=0.14.0 in /usr/local/lib/python3.12/dist-packages (from qiskit==1.1.0) (0.17.1)\n",
            "Requirement already satisfied: numpy<3,>=1.17 in /usr/local/lib/python3.12/dist-packages (from qiskit==1.1.0) (2.0.2)\n",
            "Requirement already satisfied: scipy>=1.5 in /usr/local/lib/python3.12/dist-packages (from qiskit==1.1.0) (1.16.1)\n",
            "Requirement already satisfied: sympy>=1.3 in /usr/local/lib/python3.12/dist-packages (from qiskit==1.1.0) (1.13.3)\n",
            "Requirement already satisfied: dill>=0.3 in /usr/local/lib/python3.12/dist-packages (from qiskit==1.1.0) (0.3.8)\n",
            "Requirement already satisfied: python-dateutil>=2.8.0 in /usr/local/lib/python3.12/dist-packages (from qiskit==1.1.0) (2.9.0.post0)\n",
            "Requirement already satisfied: stevedore>=3.0.0 in /usr/local/lib/python3.12/dist-packages (from qiskit==1.1.0) (5.4.1)\n",
            "Requirement already satisfied: typing-extensions in /usr/local/lib/python3.12/dist-packages (from qiskit==1.1.0) (4.14.1)\n",
            "Requirement already satisfied: symengine>=0.11 in /usr/local/lib/python3.12/dist-packages (from qiskit==1.1.0) (0.14.1)\n",
            "Requirement already satisfied: psutil>=5 in /usr/local/lib/python3.12/dist-packages (from qiskit-aer==0.14.2) (5.9.5)\n",
            "Requirement already satisfied: docplex!=2.24.231,>=2.21.207 in /usr/local/lib/python3.12/dist-packages (from qiskit-optimization==0.7.0) (2.30.251)\n",
            "Requirement already satisfied: setuptools>=40.1.0 in /usr/local/lib/python3.12/dist-packages (from qiskit-optimization==0.7.0) (75.2.0)\n",
            "Requirement already satisfied: contourpy>=1.0.1 in /usr/local/lib/python3.12/dist-packages (from matplotlib) (1.3.3)\n",
            "Requirement already satisfied: cycler>=0.10 in /usr/local/lib/python3.12/dist-packages (from matplotlib) (0.12.1)\n",
            "Requirement already satisfied: fonttools>=4.22.0 in /usr/local/lib/python3.12/dist-packages (from matplotlib) (4.59.1)\n",
            "Requirement already satisfied: kiwisolver>=1.3.1 in /usr/local/lib/python3.12/dist-packages (from matplotlib) (1.4.9)\n",
            "Requirement already satisfied: packaging>=20.0 in /usr/local/lib/python3.12/dist-packages (from matplotlib) (25.0)\n",
            "Requirement already satisfied: pillow>=8 in /usr/local/lib/python3.12/dist-packages (from matplotlib) (11.3.0)\n",
            "Requirement already satisfied: pyparsing>=2.3.1 in /usr/local/lib/python3.12/dist-packages (from matplotlib) (3.2.3)\n",
            "Requirement already satisfied: six in /usr/local/lib/python3.12/dist-packages (from docplex!=2.24.231,>=2.21.207->qiskit-optimization==0.7.0) (1.17.0)\n",
            "Requirement already satisfied: pbr>=2.0.0 in /usr/local/lib/python3.12/dist-packages (from stevedore>=3.0.0->qiskit==1.1.0) (7.0.1)\n",
            "Requirement already satisfied: mpmath<1.4,>=1.1.0 in /usr/local/lib/python3.12/dist-packages (from sympy>=1.3->qiskit==1.1.0) (1.3.0)\n"
          ]
        }
      ]
    },
    {
      "cell_type": "code",
      "source": [
        "import qiskit\n",
        "import qiskit_aer\n",
        "import qiskit_algorithms\n",
        "import qiskit_optimization\n",
        "\n",
        "print(f\"Qiskit version: {qiskit.__version__}\")\n",
        "print(f\"Qiskit Aer version: {qiskit_aer.__version__}\")\n",
        "print(f\"Qiskit Algorithms version: {qiskit_algorithms.__version__}\")\n",
        "print(f\"Qiskit Optimization version: {qiskit_optimization.__version__}\")"
      ],
      "metadata": {
        "colab": {
          "base_uri": "https://localhost:8080/"
        },
        "id": "lvM8ch0apniW",
        "outputId": "3878af0d-6d45-4676-d37f-1682edfd671d"
      },
      "execution_count": 2,
      "outputs": [
        {
          "output_type": "stream",
          "name": "stdout",
          "text": [
            "Qiskit version: 1.1.0\n",
            "Qiskit Aer version: 0.14.2\n",
            "Qiskit Algorithms version: 0.3.0\n",
            "Qiskit Optimization version: 0.7.0\n"
          ]
        }
      ]
    },
    {
      "cell_type": "code",
      "source": [
        "# Cell 2: Connect to Google Drive and set up the project path\n",
        "from google.colab import drive\n",
        "import sys\n",
        "\n",
        "drive.mount('/content/drive')\n",
        "\n",
        "# Define the path to your project folder\n",
        "project_path = '/content/drive/My Drive/Quantum_TSP_Project/'\n",
        "# Add the 'modules' folder to Python's path\n",
        "sys.path.append(project_path + 'modules/')"
      ],
      "metadata": {
        "colab": {
          "base_uri": "https://localhost:8080/"
        },
        "id": "4wk-8JcVkK7p",
        "outputId": "acf6dd8f-a3f2-4354-e009-ea494356d81f"
      },
      "execution_count": 3,
      "outputs": [
        {
          "output_type": "stream",
          "name": "stdout",
          "text": [
            "Drive already mounted at /content/drive; to attempt to forcibly remount, call drive.mount(\"/content/drive\", force_remount=True).\n"
          ]
        }
      ]
    },
    {
      "cell_type": "code",
      "source": [
        "# Cell 3: Import everything you need\n",
        "import numpy as np\n",
        "import classical_solver\n",
        "import quantum_solver\n",
        "import plotter"
      ],
      "metadata": {
        "id": "gI2CUqLwkcDI"
      },
      "execution_count": 4,
      "outputs": []
    },
    {
      "cell_type": "code",
      "source": [
        "# Cell 4: Define the specific instance of your TSP\n",
        "n = 4  # Number of cities\n",
        "seed = 123  # For reproducibility\n",
        "\n",
        "# Generate city coordinates and the distance matrix\n",
        "np.random.seed(seed)\n",
        "coords = np.random.randint(0, 100, size=(n, 2))\n",
        "distance_matrix = np.zeros((n, n))\n",
        "for i in range(n):\n",
        "    for j in range(i + 1, n):\n",
        "        dist = np.linalg.norm(coords[i] - coords[j])\n",
        "        distance_matrix[i, j] = distance_matrix[j, i] = dist\n",
        "\n",
        "print(\"--- Problem Definition ---\")\n",
        "print(f\"{n} cities with random coordinates.\")"
      ],
      "metadata": {
        "colab": {
          "base_uri": "https://localhost:8080/"
        },
        "id": "b1qUHZuVqd_h",
        "outputId": "df77f788-4c26-4914-d145-461a3595d5b8"
      },
      "execution_count": 5,
      "outputs": [
        {
          "output_type": "stream",
          "name": "stdout",
          "text": [
            "--- Problem Definition ---\n",
            "4 cities with random coordinates.\n"
          ]
        }
      ]
    },
    {
      "cell_type": "code",
      "source": [
        "# Cell 5: Execute the classical and quantum solvers\n",
        "classical_route, classical_distance = classical_solver.solve_classical_tsp(distance_matrix)\n",
        "quantum_route, quantum_distance = quantum_solver.solve_quantum_tsp(distance_matrix, seed=seed)"
      ],
      "metadata": {
        "colab": {
          "base_uri": "https://localhost:8080/"
        },
        "id": "AQpZhjUxqk1i",
        "outputId": "e56282b9-a0c0-49e4-ecd5-a6ac49121999"
      },
      "execution_count": 6,
      "outputs": [
        {
          "output_type": "stream",
          "name": "stdout",
          "text": [
            "--- Classical Solution ---\n",
            "Route: [0, 2, 1, 3, 0]\n",
            "Distance: 183.14\n",
            "\n",
            "--- Quantum Solution ---\n",
            "Route: [0, 3, 1, 2]\n",
            "Distance: 183.14\n"
          ]
        }
      ]
    },
    {
      "cell_type": "code",
      "source": [
        "# Cell 6: Plot the results and save the figure\n",
        "final_plot = plotter.plot_results(coords, classical_route, classical_distance, quantum_route, quantum_distance)\n",
        "\n",
        "# Optionally, save the figure to your results folder\n",
        "figure_path = project_path + 'results/route_comparison.png'\n",
        "final_plot.savefig(figure_path)\n",
        "print(f\"\\nPlot saved to: {figure_path}\")"
      ],
      "metadata": {
        "colab": {
          "base_uri": "https://localhost:8080/",
          "height": 695
        },
        "id": "aYCYRLvCr9vI",
        "outputId": "7d5d4c46-1185-4ca4-9d2b-b10eb677f5af"
      },
      "execution_count": 7,
      "outputs": [
        {
          "output_type": "stream",
          "name": "stderr",
          "text": [
            "/content/drive/My Drive/Quantum_TSP_Project/modules/plotter.py:26: UserWarning: \n",
            "\n",
            "The connectionstyle keyword argument is not applicable when drawing edges\n",
            "with LineCollection.\n",
            "\n",
            "To make this warning go away, either specify `arrows=True` to\n",
            "force FancyArrowPatches or use the default values.\n",
            "Note that using FancyArrowPatches may be slow for large graphs.\n",
            "\n",
            "  nx.draw_networkx_edges(G, pos, edgelist=quantum_edges, edge_color='red', width=2.0, style='dashed', connectionstyle='arc3,rad=0.1', label=\"Quantum\")\n"
          ]
        },
        {
          "output_type": "display_data",
          "data": {
            "text/plain": [
              "<Figure size 640x480 with 1 Axes>"
            ],
            "image/png": "[encoded data removed]"
          },
          "metadata": {}
        },
        {
          "output_type": "stream",
          "name": "stdout",
          "text": [
            "\n",
            "Plot saved to: /content/drive/My Drive/Quantum_TSP_Project/results/route_comparison.png\n"
          ]
        },
        {
          "output_type": "display_data",
          "data": {
            "text/plain": [
              "<Figure size 640x480 with 0 Axes>"
            ]
          },
          "metadata": {}
        }
      ]
    }
  ]
}